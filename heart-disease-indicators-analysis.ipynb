{
 "cells": [
  {
   "cell_type": "markdown",
   "id": "4fce9045",
   "metadata": {},
   "source": [
    "Hello everyone,\n",
    "\n",
    "In this project, it is required to analysis the key indicators of heart disease.\n",
    "We will work with the [Personal Key Indicators of Heart Disease](https://www.kaggle.com/datasets/kamilpytlak/personal-key-indicators-of-heart-disease).\n",
    "\n",
    "At first, what are the main steps we should go through in this project?\n",
    "\n",
    "# TODOs:\n",
    "\n",
    "1. Understand the problem (look at the big picture)\n",
    "2. Get the data\n",
    "3. Preprocessing\n",
    "4. Analysis and Visualization\n",
    "5. Features extraction\n",
    "6. Model Selection\n",
    "7. Result"
   ]
  },
  {
   "cell_type": "markdown",
   "id": "a5c65d11",
   "metadata": {},
   "source": [
    "# 1. Understand the problem"
   ]
  },
  {
   "cell_type": "code",
   "execution_count": 1,
   "id": "45629c4d",
   "metadata": {},
   "outputs": [],
   "source": [
    "##################################################### imports #####################################################"
   ]
  }
 ],
 "metadata": {
  "interpreter": {
   "hash": "f03ff3a1bea0270c623bef2b669fe858d3f4605ffabd8a19cec0b5e7a9197bae"
  },
  "kernelspec": {
   "display_name": "Python 3.9.7 ('base')",
   "language": "python",
   "name": "python3"
  },
  "language_info": {
   "codemirror_mode": {
    "name": "ipython",
    "version": 3
   },
   "file_extension": ".py",
   "mimetype": "text/x-python",
   "name": "python",
   "nbconvert_exporter": "python",
   "pygments_lexer": "ipython3",
   "version": "3.9.7"
  }
 },
 "nbformat": 4,
 "nbformat_minor": 5
}
