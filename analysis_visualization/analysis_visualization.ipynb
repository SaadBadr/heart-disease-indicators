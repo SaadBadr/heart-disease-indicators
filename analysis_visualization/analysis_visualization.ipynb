{
 "cells": [
  {
   "cell_type": "markdown",
   "id": "93d1b7d9",
   "metadata": {},
   "source": [
    "Hello everyone,\n",
    "\n",
    "In this module, it is required to analysis and visualize the indicators.\n",
    "\n",
    "At first, what are the main steps that we should go through in this module?\n",
    "\n",
    "\n",
    "# TODOs:\n",
    "\n",
    "1. Understand the problem\n",
    "2. ..\n",
    "3. Testing"
   ]
  },
  {
   "cell_type": "markdown",
   "id": "1fbbcf51",
   "metadata": {},
   "source": [
    "# 1. Understand the problem\n",
    "\n",
    "- Input: --\n",
    "- Output: --"
   ]
  },
  {
   "cell_type": "code",
   "execution_count": 2,
   "id": "b311bad7",
   "metadata": {},
   "outputs": [],
   "source": [
    "##################################################### imports #####################################################\n",
    "import matplotlib.pyplot as plt\n"
   ]
  },
  {
   "cell_type": "markdown",
   "id": "05cb1f9a",
   "metadata": {},
   "source": [
    "# 2."
   ]
  },
  {
   "cell_type": "code",
   "execution_count": 3,
   "id": "ec37646c",
   "metadata": {},
   "outputs": [],
   "source": [
    "def testing():\n",
    "    pass"
   ]
  },
  {
   "cell_type": "code",
   "execution_count": 4,
   "id": "766aa718",
   "metadata": {},
   "outputs": [],
   "source": [
    "if __name__ == '__main__':\n",
    "    testing()"
   ]
  },
  {
   "cell_type": "code",
   "execution_count": 5,
   "id": "50bafc05",
   "metadata": {},
   "outputs": [
    {
     "name": "stderr",
     "output_type": "stream",
     "text": [
      "[NbConvertApp] Converting notebook feature_extraction.ipynb to script\n",
      "[NbConvertApp] Writing 18034 bytes to feature_extraction.py\n"
     ]
    }
   ],
   "source": [
    "!jupyter nbconvert --to script feature_extraction.ipynb"
   ]
  }
 ],
 "metadata": {
  "interpreter": {
   "hash": "f03ff3a1bea0270c623bef2b669fe858d3f4605ffabd8a19cec0b5e7a9197bae"
  },
  "kernelspec": {
   "display_name": "Python 3.9.7 ('base')",
   "language": "python",
   "name": "python3"
  },
  "language_info": {
   "codemirror_mode": {
    "name": "ipython",
    "version": 3
   },
   "file_extension": ".py",
   "mimetype": "text/x-python",
   "name": "python",
   "nbconvert_exporter": "python",
   "pygments_lexer": "ipython3",
   "version": "3.9.7"
  }
 },
 "nbformat": 4,
 "nbformat_minor": 5
}
