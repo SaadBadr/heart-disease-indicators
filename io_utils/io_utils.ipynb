{
 "cells": [
  {
   "cell_type": "markdown",
   "id": "93d1b7d9",
   "metadata": {},
   "source": [
    "Hello everyone,\n",
    "\n",
    "In this module, it is required to implement Input/Output utilities.\n",
    "\n",
    "At first, what are the main steps that we should go through in this module?\n",
    "\n",
    "\n",
    "# TODOs:\n",
    "\n",
    "1. Understand the problem\n",
    "2. Read data\n",
    "3. Testing"
   ]
  },
  {
   "cell_type": "code",
   "execution_count": 3,
   "id": "85fbc552",
   "metadata": {},
   "outputs": [
    {
     "ename": "ModuleNotFoundError",
     "evalue": "No module named 'matplotlib'",
     "output_type": "error",
     "traceback": [
      "\u001b[1;31m---------------------------------------------------------------------------\u001b[0m",
      "\u001b[1;31mModuleNotFoundError\u001b[0m                       Traceback (most recent call last)",
      "\u001b[1;32md:\\work\\heart-disease-indicators\\io_utils\\io_utils.ipynb Cell 2'\u001b[0m in \u001b[0;36m<cell line: 3>\u001b[1;34m()\u001b[0m\n\u001b[0;32m      <a href='vscode-notebook-cell:/d%3A/work/heart-disease-indicators/io_utils/io_utils.ipynb#ch0000001?line=0'>1</a>\u001b[0m \u001b[39m##################################################### imports #####################################################\u001b[39;00m\n\u001b[0;32m      <a href='vscode-notebook-cell:/d%3A/work/heart-disease-indicators/io_utils/io_utils.ipynb#ch0000001?line=1'>2</a>\u001b[0m \u001b[39mimport\u001b[39;00m \u001b[39mos\u001b[39;00m\n\u001b[1;32m----> <a href='vscode-notebook-cell:/d%3A/work/heart-disease-indicators/io_utils/io_utils.ipynb#ch0000001?line=2'>3</a>\u001b[0m \u001b[39mimport\u001b[39;00m \u001b[39mmatplotlib\u001b[39;00m\u001b[39m.\u001b[39;00m\u001b[39mpyplot\u001b[39;00m \u001b[39mas\u001b[39;00m \u001b[39mplt\u001b[39;00m\n\u001b[0;32m      <a href='vscode-notebook-cell:/d%3A/work/heart-disease-indicators/io_utils/io_utils.ipynb#ch0000001?line=3'>4</a>\u001b[0m \u001b[39mfrom\u001b[39;00m \u001b[39mrandom\u001b[39;00m \u001b[39mimport\u001b[39;00m randrange\n",
      "\u001b[1;31mModuleNotFoundError\u001b[0m: No module named 'matplotlib'"
     ]
    }
   ],
   "source": [
    "##################################################### imports #####################################################\n",
    "import os\n",
    "import matplotlib.pyplot as plt\n",
    "from random import randrange"
   ]
  },
  {
   "cell_type": "markdown",
   "id": "1fbbcf51",
   "metadata": {},
   "source": [
    "# 1. Understand the problem"
   ]
  },
  {
   "cell_type": "markdown",
   "id": "05cb1f9a",
   "metadata": {},
   "source": [
    "# 2. Read data"
   ]
  },
  {
   "cell_type": "code",
   "execution_count": 4,
   "id": "6734983e",
   "metadata": {},
   "outputs": [],
   "source": [
    "def read_data(dataset_path='./ACdata_base', debug=False):\n",
    "    \"\"\" read the dataset from a given path\n",
    "\n",
    "    Args:\n",
    "        dataset_path: the path of the dataset directory\n",
    "        debug: print debug data (default False)\n",
    "    Returns:\n",
    "    \"\"\"\n",
    "        \n",
    "    dataset_images = []\n",
    "    dataset_labels = []\n",
    "    \n",
    "    return\n",
    "            "
   ]
  },
  {
   "cell_type": "markdown",
   "id": "bd529af8",
   "metadata": {},
   "source": [
    "# 3. Split data to train and test"
   ]
  },
  {
   "cell_type": "code",
   "execution_count": 5,
   "id": "63d6d3fd",
   "metadata": {},
   "outputs": [],
   "source": [
    "def split_data(X, y, test_size=0.33):\n",
    "    \"\"\" split the data into training and testing data \n",
    "\n",
    "    Args:\n",
    "        X: the data\n",
    "        y: labels of the data\n",
    "        test_size: ratio of test size (default 0.33)\n",
    "\n",
    "    Returns:\n",
    "        X_train: training data\n",
    "        X_test: testing data\n",
    "        y_train: training labels\n",
    "        y_test: testing labels\n",
    "    \"\"\"\n",
    "\n",
    "    return"
   ]
  },
  {
   "cell_type": "markdown",
   "id": "1e8fd4d7",
   "metadata": {},
   "source": [
    "# 5. Testing"
   ]
  },
  {
   "cell_type": "code",
   "execution_count": 6,
   "id": "346b6db0",
   "metadata": {},
   "outputs": [],
   "source": [
    "def testing():        \n",
    "    pass"
   ]
  },
  {
   "cell_type": "code",
   "execution_count": 7,
   "id": "766aa718",
   "metadata": {},
   "outputs": [],
   "source": [
    "if __name__ == '__main__':\n",
    "    testing()"
   ]
  },
  {
   "cell_type": "code",
   "execution_count": 8,
   "id": "87e2e932",
   "metadata": {},
   "outputs": [
    {
     "name": "stderr",
     "output_type": "stream",
     "text": [
      "[NbConvertApp] Converting notebook io_utils.ipynb to script\n",
      "[NbConvertApp] Writing 4181 bytes to io_utils.py\n"
     ]
    }
   ],
   "source": [
    "!jupyter nbconvert --to script io_utils.ipynb"
   ]
  }
 ],
 "metadata": {
  "interpreter": {
   "hash": "f03ff3a1bea0270c623bef2b669fe858d3f4605ffabd8a19cec0b5e7a9197bae"
  },
  "kernelspec": {
   "display_name": "Python 3.9.7 ('base')",
   "language": "python",
   "name": "python3"
  },
  "language_info": {
   "codemirror_mode": {
    "name": "ipython",
    "version": 3
   },
   "file_extension": ".py",
   "mimetype": "text/x-python",
   "name": "python",
   "nbconvert_exporter": "python",
   "pygments_lexer": "ipython3",
   "version": "3.9.7"
  }
 },
 "nbformat": 4,
 "nbformat_minor": 5
}
