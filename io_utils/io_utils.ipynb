{
 "cells": [
  {
   "cell_type": "markdown",
   "id": "93d1b7d9",
   "metadata": {},
   "source": [
    "Hello everyone,\n",
    "\n",
    "In this module, it is required to implement Input/Output utilities.\n",
    "\n",
    "At first, what are the main steps that we should go through in this module?\n",
    "\n",
    "\n",
    "# TODOs:\n",
    "\n",
    "1. Understand the problem\n",
    "2. Read data\n",
    "3. Testing"
   ]
  },
  {
   "cell_type": "code",
   "execution_count": 1,
   "id": "85fbc552",
   "metadata": {},
   "outputs": [],
   "source": [
    "##################################################### imports #####################################################\n",
    "from pyspark.sql import SparkSession"
   ]
  },
  {
   "cell_type": "code",
   "execution_count": 3,
   "id": "1695e7ce",
   "metadata": {},
   "outputs": [],
   "source": [
    "spark = SparkSession.builder.appName('heart-disease').getOrCreate()"
   ]
  },
  {
   "cell_type": "code",
   "execution_count": 21,
   "id": "d05eaad3",
   "metadata": {},
   "outputs": [
    {
     "name": "stdout",
     "output_type": "stream",
     "text": [
      "+------------+-----+-------+---------------+------+--------------+------------+-----------+------+-----------+-----+--------+----------------+---------+---------+------+-------------+----------+\n",
      "|HeartDisease|  BMI|Smoking|AlcoholDrinking|Stroke|PhysicalHealth|MentalHealth|DiffWalking|   Sex|AgeCategory| Race|Diabetic|PhysicalActivity|GenHealth|SleepTime|Asthma|KidneyDisease|SkinCancer|\n",
      "+------------+-----+-------+---------------+------+--------------+------------+-----------+------+-----------+-----+--------+----------------+---------+---------+------+-------------+----------+\n",
      "|          No| 16.6|    Yes|             No|    No|           3.0|        30.0|         No|Female|      55-59|White|     Yes|             Yes|Very good|      5.0|   Yes|           No|       Yes|\n",
      "|          No|20.34|     No|             No|   Yes|           0.0|         0.0|         No|Female|80 or older|White|      No|             Yes|Very good|      7.0|    No|           No|        No|\n",
      "|          No|26.58|    Yes|             No|    No|          20.0|        30.0|         No|  Male|      65-69|White|     Yes|             Yes|     Fair|      8.0|   Yes|           No|        No|\n",
      "+------------+-----+-------+---------------+------+--------------+------------+-----------+------+-----------+-----+--------+----------------+---------+---------+------+-------------+----------+\n",
      "only showing top 3 rows\n",
      "\n"
     ]
    }
   ],
   "source": [
    "df = spark.read.csv(\"./../data/heart_2020_cleaned.csv\", header=True)\n",
    "df.show(3)"
   ]
  },
  {
   "cell_type": "markdown",
   "id": "1fbbcf51",
   "metadata": {},
   "source": [
    "# 1. Understand the problem"
   ]
  },
  {
   "cell_type": "markdown",
   "id": "05cb1f9a",
   "metadata": {},
   "source": [
    "# 2. Read data"
   ]
  },
  {
   "cell_type": "code",
   "execution_count": 4,
   "id": "6734983e",
   "metadata": {},
   "outputs": [],
   "source": [
    "def read_data(dataset_path='./ACdata_base', debug=False):\n",
    "    \"\"\" read the dataset from a given path\n",
    "\n",
    "    Args:\n",
    "        dataset_path: the path of the dataset directory\n",
    "        debug: print debug data (default False)\n",
    "    Returns:\n",
    "    \"\"\"\n",
    "        \n",
    "    dataset_images = []\n",
    "    dataset_labels = []\n",
    "    \n",
    "    return\n",
    "            "
   ]
  },
  {
   "cell_type": "markdown",
   "id": "bd529af8",
   "metadata": {},
   "source": [
    "# 3. Split data to train and test"
   ]
  },
  {
   "cell_type": "code",
   "execution_count": 5,
   "id": "63d6d3fd",
   "metadata": {},
   "outputs": [],
   "source": [
    "def split_data(X, y, test_size=0.33):\n",
    "    \"\"\" split the data into training and testing data \n",
    "\n",
    "    Args:\n",
    "        X: the data\n",
    "        y: labels of the data\n",
    "        test_size: ratio of test size (default 0.33)\n",
    "\n",
    "    Returns:\n",
    "        X_train: training data\n",
    "        X_test: testing data\n",
    "        y_train: training labels\n",
    "        y_test: testing labels\n",
    "    \"\"\"\n",
    "\n",
    "    return"
   ]
  },
  {
   "cell_type": "markdown",
   "id": "1e8fd4d7",
   "metadata": {},
   "source": [
    "# 5. Testing"
   ]
  },
  {
   "cell_type": "code",
   "execution_count": 6,
   "id": "346b6db0",
   "metadata": {},
   "outputs": [],
   "source": [
    "def testing():        \n",
    "    pass"
   ]
  },
  {
   "cell_type": "code",
   "execution_count": 7,
   "id": "766aa718",
   "metadata": {},
   "outputs": [],
   "source": [
    "if __name__ == '__main__':\n",
    "    testing()"
   ]
  },
  {
   "cell_type": "code",
   "execution_count": 8,
   "id": "87e2e932",
   "metadata": {},
   "outputs": [
    {
     "name": "stderr",
     "output_type": "stream",
     "text": [
      "[NbConvertApp] Converting notebook io_utils.ipynb to script\n",
      "[NbConvertApp] Writing 4181 bytes to io_utils.py\n"
     ]
    }
   ],
   "source": [
    "!jupyter nbconvert --to script io_utils.ipynb"
   ]
  }
 ],
 "metadata": {
  "interpreter": {
   "hash": "f03ff3a1bea0270c623bef2b669fe858d3f4605ffabd8a19cec0b5e7a9197bae"
  },
  "kernelspec": {
   "display_name": "Python 3.9.7 ('base')",
   "language": "python",
   "name": "python3"
  },
  "language_info": {
   "codemirror_mode": {
    "name": "ipython",
    "version": 3
   },
   "file_extension": ".py",
   "mimetype": "text/x-python",
   "name": "python",
   "nbconvert_exporter": "python",
   "pygments_lexer": "ipython3",
   "version": "3.9.7"
  }
 },
 "nbformat": 4,
 "nbformat_minor": 5
}
